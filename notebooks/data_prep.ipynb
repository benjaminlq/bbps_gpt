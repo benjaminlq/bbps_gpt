{
 "cells": [
  {
   "cell_type": "code",
   "execution_count": 1,
   "metadata": {},
   "outputs": [],
   "source": [
    "import os, sys\n",
    "from random import shuffle"
   ]
  },
  {
   "cell_type": "code",
   "execution_count": 2,
   "metadata": {},
   "outputs": [],
   "source": [
    "MAIN_DIR = \"..\"\n",
    "DATA_DIR = os.path.join(MAIN_DIR, \"data\")"
   ]
  },
  {
   "cell_type": "markdown",
   "metadata": {},
   "source": [
    "## Prepare Nerthus Dataset"
   ]
  },
  {
   "cell_type": "code",
   "execution_count": 6,
   "metadata": {},
   "outputs": [],
   "source": [
    "nerthus_path = os.path.join(DATA_DIR, \"nerthus-raw\")\n",
    "\n",
    "output_folder = os.path.join(DATA_DIR, \"nerthus\")\n",
    "if not os.path.exists(output_folder):\n",
    "    os.makedirs(output_folder, exist_ok=True)\n"
   ]
  },
  {
   "cell_type": "code",
   "execution_count": null,
   "metadata": {},
   "outputs": [],
   "source": [
    "for score in os.listdir(nerthus_path):\n",
    "    score_path = os.path.join(nerthus_path, score)\n",
    "    if os.path.isdir(score_path):\n",
    "        output_score_path = os.path.join(output_folder, score_path)\n",
    "        os.makedirs(output_score_path)\n",
    "        "
   ]
  },
  {
   "cell_type": "markdown",
   "metadata": {},
   "source": [
    "# Prepare Hyper-Kvasir Dataset"
   ]
  },
  {
   "cell_type": "code",
   "execution_count": 3,
   "metadata": {},
   "outputs": [],
   "source": [
    "data_folder = os.path.join(DATA_DIR, \"hyper-kvasir\")"
   ]
  },
  {
   "cell_type": "code",
   "execution_count": 22,
   "metadata": {},
   "outputs": [],
   "source": [
    "low_score_files = os.listdir(os.path.join(data_folder, \"bbps-0-1\"))\n",
    "low_score_paths = [os.path.join(data_folder, \"bbps-0-1\", file) for file in low_score_files]\n",
    "high_score_files = os.listdir(os.path.join(data_folder, \"bbps-2-3\"))\n",
    "high_score_paths = [os.path.join(data_folder, \"bbps-2-3\", file) for file in high_score_files]\n",
    "all_paths = low_score_paths + high_score_paths\n",
    "\n",
    "shuffle(all_paths)"
   ]
  },
  {
   "cell_type": "code",
   "execution_count": 23,
   "metadata": {},
   "outputs": [
    {
     "name": "stdout",
     "output_type": "stream",
     "text": [
      "Done\n"
     ]
    }
   ],
   "source": [
    "with open(os.path.join(DATA_DIR, \"hyper-kvasir\", \"testcases.txt\"), 'w') as fp:\n",
    "    for item in all_paths:\n",
    "        # write each item on a new line\n",
    "        fp.write(\"%s\\n\" % item)\n",
    "    print('Done')"
   ]
  }
 ],
 "metadata": {
  "kernelspec": {
   "display_name": "venv",
   "language": "python",
   "name": "python3"
  },
  "language_info": {
   "codemirror_mode": {
    "name": "ipython",
    "version": 3
   },
   "file_extension": ".py",
   "mimetype": "text/x-python",
   "name": "python",
   "nbconvert_exporter": "python",
   "pygments_lexer": "ipython3",
   "version": "3.10.12"
  }
 },
 "nbformat": 4,
 "nbformat_minor": 2
}
